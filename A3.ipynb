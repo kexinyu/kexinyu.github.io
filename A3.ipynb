{
 "cells": [
  {
   "cell_type": "code",
   "execution_count": 83,
   "metadata": {},
   "outputs": [],
   "source": [
    "import pandas as pd"
   ]
  },
  {
   "cell_type": "code",
   "execution_count": 84,
   "metadata": {},
   "outputs": [
    {
     "data": {
      "text/plain": [
       "Index(['business_id', 'business_name', 'business_address',\n",
       "       'business_postal_code', 'business_latitude', 'business_longitude',\n",
       "       'business_location', 'business_phone_number', 'inspection_id',\n",
       "       'inspection_date', 'inspection_score', 'violation_id',\n",
       "       'violation_description', 'risk_category'],\n",
       "      dtype='object')"
      ]
     },
     "execution_count": 84,
     "metadata": {},
     "output_type": "execute_result"
    }
   ],
   "source": [
    "df = pd.read_csv(\"data/restaurant_scores.csv\")\n",
    "df.columns"
   ]
  },
  {
   "cell_type": "code",
   "execution_count": 85,
   "metadata": {},
   "outputs": [],
   "source": [
    "df['date'] = pd.to_datetime(df['inspection_date'])"
   ]
  },
  {
   "cell_type": "code",
   "execution_count": 86,
   "metadata": {},
   "outputs": [
    {
     "name": "stdout",
     "output_type": "stream",
     "text": [
      "52\n",
      "100\n"
     ]
    }
   ],
   "source": [
    "print(df.inspection_score.min())\n",
    "print(df.inspection_score.max())"
   ]
  },
  {
   "cell_type": "code",
   "execution_count": 87,
   "metadata": {},
   "outputs": [
    {
     "name": "stdout",
     "output_type": "stream",
     "text": [
      "2015-10-02 00:00:00\n",
      "2018-10-01 00:00:00\n"
     ]
    }
   ],
   "source": [
    "print(df.date.min())\n",
    "print(df.date.max())"
   ]
  },
  {
   "cell_type": "code",
   "execution_count": 111,
   "metadata": {},
   "outputs": [
    {
     "data": {
      "text/plain": [
       "array(['Food safety certificate or food handler card not available',\n",
       "       'Unclean nonfood contact surfaces', nan,\n",
       "       'Unclean or degraded floors walls or ceilings',\n",
       "       'Moderate risk vermin infestation',\n",
       "       'Inadequate and inaccessible handwashing facilities',\n",
       "       'Unapproved or unmaintained equipment or utensils',\n",
       "       'Foods not protected from contamination',\n",
       "       'High risk food holding temperature', 'Improper thawing methods',\n",
       "       'Improper storage of equipment utensils or linens',\n",
       "       'Moderate risk food holding temperature',\n",
       "       'No thermometers or uncalibrated thermometers',\n",
       "       'High risk vermin infestation', 'Improper food storage',\n",
       "       'Improper storage use or identification of toxic substances',\n",
       "       'Improper or defective plumbing',\n",
       "       'Inadequately cleaned or sanitized food contact surfaces',\n",
       "       'Permit license or inspection report not posted',\n",
       "       'Inadequate ventilation or lighting',\n",
       "       'Wiping cloths not clean or properly stored or inadequate sanitizer',\n",
       "       'Inadequate food safety knowledge or lack of certified food safety manager',\n",
       "       'Improper food labeling or menu misrepresentation',\n",
       "       'Insufficient hot water or running water',\n",
       "       'Contaminated or adulterated food', 'Non service animal',\n",
       "       'No plan review or Building Permit', 'Low risk vermin infestation',\n",
       "       'Unclean or unsanitary food contact surfaces',\n",
       "       'Other low risk violation',\n",
       "       'Noncompliance with HAACP plan or variance',\n",
       "       'Unclean hands or improper use of gloves',\n",
       "       'Improper cooling methods', 'Employee eating or smoking',\n",
       "       'Inadequate warewashing facilities or equipment',\n",
       "       'Inadequate procedures or records for time as a public health control',\n",
       "       'Unclean unmaintained or improperly constructed toilet facilities',\n",
       "       'Inadequate dressing rooms or improper storage of personal items',\n",
       "       'Unsanitary employee garments hair or nails',\n",
       "       'Improper reheating of food', 'Food in poor condition',\n",
       "       'No hot water or running water', 'Unpermitted food facility',\n",
       "       'Inadequate or unsanitary refuse containers or area or no garbage service',\n",
       "       'Unapproved food source',\n",
       "       'Inadequate sewage or wastewater disposal',\n",
       "       'Unapproved  living quarters in food facility',\n",
       "       'Noncompliance with shell fish tags or display',\n",
       "       'Reservice of previously served foods',\n",
       "       'Unauthorized or unsafe use of time as a public health control measure',\n",
       "       'No person in charge of food facility',\n",
       "       'Other moderate risk violation', 'Other high risk violation',\n",
       "       'Inadequate HACCP plan record keeping', 'Worker safety hazards',\n",
       "       'Sewage or wastewater contamination'], dtype=object)"
      ]
     },
     "execution_count": 111,
     "metadata": {},
     "output_type": "execute_result"
    }
   ],
   "source": [
    "df.violation_description.unique()"
   ]
  },
  {
   "cell_type": "code",
   "execution_count": 88,
   "metadata": {},
   "outputs": [
    {
     "name": "stdout",
     "output_type": "stream",
     "text": [
      "5796\n",
      "1993\n"
     ]
    }
   ],
   "source": [
    "idx = df.groupby('business_name')['date'].transform(max) == df['date']\n",
    "df_latest = df[idx]\n",
    "print(len(df))\n",
    "print(len(df_latest))"
   ]
  },
  {
   "cell_type": "code",
   "execution_count": 89,
   "metadata": {},
   "outputs": [
    {
     "name": "stdout",
     "output_type": "stream",
     "text": [
      "1891\n",
      "613\n"
     ]
    }
   ],
   "source": [
    "df_latest = df_latest.loc[pd.notnull(df_latest.violation_description)]\n",
    "print(len(df_latest))\n",
    "print(len(df_latest.business_name.unique()))"
   ]
  },
  {
   "cell_type": "code",
   "execution_count": 90,
   "metadata": {},
   "outputs": [],
   "source": [
    "risks = df_latest.groupby('business_name')['violation_description'].agg(lambda x: ', '.join(x))\n",
    "df_risks = pd.DataFrame({'business_name':risks.index, 'risks':risks.values})"
   ]
  },
  {
   "cell_type": "code",
   "execution_count": 110,
   "metadata": {},
   "outputs": [
    {
     "data": {
      "text/html": [
       "<div>\n",
       "<style scoped>\n",
       "    .dataframe tbody tr th:only-of-type {\n",
       "        vertical-align: middle;\n",
       "    }\n",
       "\n",
       "    .dataframe tbody tr th {\n",
       "        vertical-align: top;\n",
       "    }\n",
       "\n",
       "    .dataframe thead th {\n",
       "        text-align: right;\n",
       "    }\n",
       "</style>\n",
       "<table border=\"1\" class=\"dataframe\">\n",
       "  <thead>\n",
       "    <tr style=\"text-align: right;\">\n",
       "      <th></th>\n",
       "      <th>business_id</th>\n",
       "      <th>business_name</th>\n",
       "      <th>business_address</th>\n",
       "      <th>business_postal_code</th>\n",
       "      <th>business_latitude</th>\n",
       "      <th>business_longitude</th>\n",
       "      <th>business_location</th>\n",
       "      <th>business_phone_number</th>\n",
       "      <th>inspection_id</th>\n",
       "      <th>inspection_date</th>\n",
       "      <th>inspection_score</th>\n",
       "      <th>violation_id</th>\n",
       "      <th>violation_description</th>\n",
       "      <th>risk_category</th>\n",
       "      <th>date</th>\n",
       "      <th>risks</th>\n",
       "    </tr>\n",
       "  </thead>\n",
       "  <tbody>\n",
       "    <tr>\n",
       "      <th>0</th>\n",
       "      <td>69769</td>\n",
       "      <td>Whole Foods Market</td>\n",
       "      <td>1150 Ocean Ave</td>\n",
       "      <td>94112</td>\n",
       "      <td>37.723652</td>\n",
       "      <td>-122.45461</td>\n",
       "      <td>(37.723652, -122.45461)</td>\n",
       "      <td>14155337400</td>\n",
       "      <td>69769_20180725</td>\n",
       "      <td>7/25/18</td>\n",
       "      <td>90</td>\n",
       "      <td>69769_20180725_103144</td>\n",
       "      <td>Unapproved or unmaintained equipment or utensils</td>\n",
       "      <td>Low Risk</td>\n",
       "      <td>2018-07-25</td>\n",
       "      <td>Unapproved or unmaintained equipment or utensi...</td>\n",
       "    </tr>\n",
       "  </tbody>\n",
       "</table>\n",
       "</div>"
      ],
      "text/plain": [
       "   business_id       business_name business_address  business_postal_code  \\\n",
       "0        69769  Whole Foods Market   1150 Ocean Ave                 94112   \n",
       "\n",
       "   business_latitude  business_longitude        business_location  \\\n",
       "0          37.723652          -122.45461  (37.723652, -122.45461)   \n",
       "\n",
       "   business_phone_number   inspection_id inspection_date  inspection_score  \\\n",
       "0            14155337400  69769_20180725         7/25/18                90   \n",
       "\n",
       "            violation_id                             violation_description  \\\n",
       "0  69769_20180725_103144  Unapproved or unmaintained equipment or utensils   \n",
       "\n",
       "  risk_category       date                                              risks  \n",
       "0      Low Risk 2018-07-25  Unapproved or unmaintained equipment or utensi...  "
      ]
     },
     "execution_count": 110,
     "metadata": {},
     "output_type": "execute_result"
    }
   ],
   "source": [
    "df_risks = pd.DataFrame({'business_name':risks.index, 'risks':risks.values})\n",
    "df_new = pd.merge(df_latest, df_risks, how='inner', on=['business_name'])\n",
    "df_new.head(1)"
   ]
  },
  {
   "cell_type": "code",
   "execution_count": 105,
   "metadata": {},
   "outputs": [
    {
     "name": "stdout",
     "output_type": "stream",
     "text": [
      "1891\n",
      "613\n"
     ]
    }
   ],
   "source": [
    "print(len(df_new))\n",
    "df_new.drop(columns=['business_location', 'date',\n",
    "                     'inspection_id', 'violation_id', 'violation_description', \n",
    "                     'risk_category'], inplace=True)\n",
    "df_new.drop_duplicates(keep='first', inplace=True)\n",
    "print(len(df_new))"
   ]
  },
  {
   "cell_type": "code",
   "execution_count": 108,
   "metadata": {},
   "outputs": [],
   "source": [
    "df_new.to_csv('data/restaurant_scores_transformed.csv')"
   ]
  }
 ],
 "metadata": {
  "kernelspec": {
   "display_name": "Python 3",
   "language": "python",
   "name": "python3"
  },
  "language_info": {
   "codemirror_mode": {
    "name": "ipython",
    "version": 3
   },
   "file_extension": ".py",
   "mimetype": "text/x-python",
   "name": "python",
   "nbconvert_exporter": "python",
   "pygments_lexer": "ipython3",
   "version": "3.6.4"
  }
 },
 "nbformat": 4,
 "nbformat_minor": 2
}
